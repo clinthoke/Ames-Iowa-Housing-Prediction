{
 "cells": [
  {
   "cell_type": "markdown",
   "metadata": {},
   "source": [
    "## Imported needed Libraries"
   ]
  },
  {
   "cell_type": "code",
   "execution_count": 68,
   "metadata": {},
   "outputs": [],
   "source": [
    "import numpy as np\n",
    "import pandas as pd\n",
    "import matplotlib.pyplot as plt\n",
    "import seaborn as sns\n",
    "import missingno as msno\n",
    "from sklearn.linear_model import LinearRegression\n",
    "from datetime import date\n",
    "from sklearn import metrics\n",
    "from sklearn.model_selection import train_test_split, cross_val_score\n",
    "from sklearn.linear_model import LinearRegression\n",
    "from sklearn.metrics import r2_score, mean_squared_error\n",
    "from sklearn.preprocessing import StandardScaler, PolynomialFeatures\n",
    "import statsmodels.api as sm"
   ]
  },
  {
   "cell_type": "code",
   "execution_count": 69,
   "metadata": {},
   "outputs": [],
   "source": [
    "# Read in train dataset as ames\n",
    "ames = pd.read_csv('./datasets/train.csv')"
   ]
  },
  {
   "cell_type": "code",
   "execution_count": 70,
   "metadata": {},
   "outputs": [
    {
     "name": "stdout",
     "output_type": "stream",
     "text": [
      "<class 'pandas.core.frame.DataFrame'>\n",
      "RangeIndex: 2051 entries, 0 to 2050\n",
      "Data columns (total 81 columns):\n",
      " #   Column           Non-Null Count  Dtype  \n",
      "---  ------           --------------  -----  \n",
      " 0   Id               2051 non-null   int64  \n",
      " 1   PID              2051 non-null   int64  \n",
      " 2   MS SubClass      2051 non-null   int64  \n",
      " 3   MS Zoning        2051 non-null   object \n",
      " 4   Lot Frontage     1721 non-null   float64\n",
      " 5   Lot Area         2051 non-null   int64  \n",
      " 6   Street           2051 non-null   object \n",
      " 7   Alley            140 non-null    object \n",
      " 8   Lot Shape        2051 non-null   object \n",
      " 9   Land Contour     2051 non-null   object \n",
      " 10  Utilities        2051 non-null   object \n",
      " 11  Lot Config       2051 non-null   object \n",
      " 12  Land Slope       2051 non-null   object \n",
      " 13  Neighborhood     2051 non-null   object \n",
      " 14  Condition 1      2051 non-null   object \n",
      " 15  Condition 2      2051 non-null   object \n",
      " 16  Bldg Type        2051 non-null   object \n",
      " 17  House Style      2051 non-null   object \n",
      " 18  Overall Qual     2051 non-null   int64  \n",
      " 19  Overall Cond     2051 non-null   int64  \n",
      " 20  Year Built       2051 non-null   int64  \n",
      " 21  Year Remod/Add   2051 non-null   int64  \n",
      " 22  Roof Style       2051 non-null   object \n",
      " 23  Roof Matl        2051 non-null   object \n",
      " 24  Exterior 1st     2051 non-null   object \n",
      " 25  Exterior 2nd     2051 non-null   object \n",
      " 26  Mas Vnr Type     2029 non-null   object \n",
      " 27  Mas Vnr Area     2029 non-null   float64\n",
      " 28  Exter Qual       2051 non-null   object \n",
      " 29  Exter Cond       2051 non-null   object \n",
      " 30  Foundation       2051 non-null   object \n",
      " 31  Bsmt Qual        1996 non-null   object \n",
      " 32  Bsmt Cond        1996 non-null   object \n",
      " 33  Bsmt Exposure    1993 non-null   object \n",
      " 34  BsmtFin Type 1   1996 non-null   object \n",
      " 35  BsmtFin SF 1     2050 non-null   float64\n",
      " 36  BsmtFin Type 2   1995 non-null   object \n",
      " 37  BsmtFin SF 2     2050 non-null   float64\n",
      " 38  Bsmt Unf SF      2050 non-null   float64\n",
      " 39  Total Bsmt SF    2050 non-null   float64\n",
      " 40  Heating          2051 non-null   object \n",
      " 41  Heating QC       2051 non-null   object \n",
      " 42  Central Air      2051 non-null   object \n",
      " 43  Electrical       2051 non-null   object \n",
      " 44  1st Flr SF       2051 non-null   int64  \n",
      " 45  2nd Flr SF       2051 non-null   int64  \n",
      " 46  Low Qual Fin SF  2051 non-null   int64  \n",
      " 47  Gr Liv Area      2051 non-null   int64  \n",
      " 48  Bsmt Full Bath   2049 non-null   float64\n",
      " 49  Bsmt Half Bath   2049 non-null   float64\n",
      " 50  Full Bath        2051 non-null   int64  \n",
      " 51  Half Bath        2051 non-null   int64  \n",
      " 52  Bedroom AbvGr    2051 non-null   int64  \n",
      " 53  Kitchen AbvGr    2051 non-null   int64  \n",
      " 54  Kitchen Qual     2051 non-null   object \n",
      " 55  TotRms AbvGrd    2051 non-null   int64  \n",
      " 56  Functional       2051 non-null   object \n",
      " 57  Fireplaces       2051 non-null   int64  \n",
      " 58  Fireplace Qu     1051 non-null   object \n",
      " 59  Garage Type      1938 non-null   object \n",
      " 60  Garage Yr Blt    1937 non-null   float64\n",
      " 61  Garage Finish    1937 non-null   object \n",
      " 62  Garage Cars      2050 non-null   float64\n",
      " 63  Garage Area      2050 non-null   float64\n",
      " 64  Garage Qual      1937 non-null   object \n",
      " 65  Garage Cond      1937 non-null   object \n",
      " 66  Paved Drive      2051 non-null   object \n",
      " 67  Wood Deck SF     2051 non-null   int64  \n",
      " 68  Open Porch SF    2051 non-null   int64  \n",
      " 69  Enclosed Porch   2051 non-null   int64  \n",
      " 70  3Ssn Porch       2051 non-null   int64  \n",
      " 71  Screen Porch     2051 non-null   int64  \n",
      " 72  Pool Area        2051 non-null   int64  \n",
      " 73  Pool QC          9 non-null      object \n",
      " 74  Fence            400 non-null    object \n",
      " 75  Misc Feature     65 non-null     object \n",
      " 76  Misc Val         2051 non-null   int64  \n",
      " 77  Mo Sold          2051 non-null   int64  \n",
      " 78  Yr Sold          2051 non-null   int64  \n",
      " 79  Sale Type        2051 non-null   object \n",
      " 80  SalePrice        2051 non-null   int64  \n",
      "dtypes: float64(11), int64(28), object(42)\n",
      "memory usage: 1.3+ MB\n"
     ]
    }
   ],
   "source": [
    "# Viewed info on dataframe\n",
    "ames.info()"
   ]
  },
  {
   "cell_type": "code",
   "execution_count": 71,
   "metadata": {},
   "outputs": [
    {
     "data": {
      "text/plain": [
       "(2051, 81)"
      ]
     },
     "execution_count": 71,
     "metadata": {},
     "output_type": "execute_result"
    }
   ],
   "source": [
    "# Viewed shape\n",
    "ames.shape"
   ]
  },
  {
   "cell_type": "code",
   "execution_count": 72,
   "metadata": {},
   "outputs": [
    {
     "data": {
      "image/png": "[encoded data removed]",
      "text/plain": [
       "<Figure size 1008x720 with 2 Axes>"
      ]
     },
     "metadata": {
      "needs_background": "light"
     },
     "output_type": "display_data"
    }
   ],
   "source": [
    "# Almost unreadable heatmap\n",
    "corr = ames.corr()\n",
    "plt.figure(figsize=(14,10))\n",
    "sns.heatmap(corr)\n",
    "plt.show()"
   ]
  },
  {
   "cell_type": "code",
   "execution_count": 73,
   "metadata": {},
   "outputs": [
    {
     "data": {
      "image/png": "[encoded data removed]",
      "text/plain": [
       "<Figure size 864x720 with 2 Axes>"
      ]
     },
     "metadata": {
      "needs_background": "light"
     },
     "output_type": "display_data"
    }
   ],
   "source": [
    "# Heatmap for top correlated features, correlation of .5 or higher was used\n",
    "top_corr = ames.corr()\n",
    "top_corr_features = top_corr.index[abs(top_corr[\"SalePrice\"])>0.5]\n",
    "plt.figure(figsize=(12,10))\n",
    "g = sns.heatmap(ames[top_corr_features].corr(),annot=True,cmap=\"magma\")"
   ]
  },
  {
   "cell_type": "code",
   "execution_count": 74,
   "metadata": {
    "scrolled": false
   },
   "outputs": [
    {
     "data": {
      "image/png": "[encoded data removed]",
      "text/plain": [
       "<Figure size 432x720 with 2 Axes>"
      ]
     },
     "metadata": {
      "needs_background": "light"
     },
     "output_type": "display_data"
    }
   ],
   "source": [
    "# Ran a one column heatmap to see correlation between sales price and the most correlated columns\n",
    "\n",
    "corr = ames.corr()\n",
    "plt.figure(figsize = (6,10))\n",
    "sns.heatmap(corr[[\"SalePrice\"]].sort_values(by = \"SalePrice\", ascending = False).head(12),vmin = 0, annot = True)\n",
    "plt.show()"
   ]
  },
  {
   "cell_type": "code",
   "execution_count": 88,
   "metadata": {
    "scrolled": false
   },
   "outputs": [
    {
     "data": {
      "image/png": "[encoded data removed]",
      "text/plain": [
       "<Figure size 1656x720 with 1 Axes>"
      ]
     },
     "metadata": {
      "needs_background": "light"
     },
     "output_type": "display_data"
    }
   ],
   "source": [
    "# Created barplot to view neighborhood salesprices\n",
    "fig, ax = plt.subplots(figsize=(23,10))\n",
    "\n",
    "sns.barplot(x=\"Neighborhood\",\n",
    "            y=\"SalePrice\", data=ames, estimator=np.mean,\n",
    "           color='cyan')\n",
    "plt.show()"
   ]
  },
  {
   "cell_type": "code",
   "execution_count": 9,
   "metadata": {},
   "outputs": [
    {
     "data": {
      "image/png": "[encoded data removed]",
      "text/plain": [
       "<Figure size 1152x576 with 1 Axes>"
      ]
     },
     "metadata": {
      "needs_background": "light"
     },
     "output_type": "display_data"
    }
   ],
   "source": [
    "# Scatter plot on Gr Liv Area\n",
    "ames.plot.scatter(x='Gr Liv Area', y='SalePrice', figsize=(16, 8), ylim=(0,700000));"
   ]
  },
  {
   "cell_type": "markdown",
   "metadata": {},
   "source": [
    "# EDA"
   ]
  },
  {
   "cell_type": "code",
   "execution_count": 10,
   "metadata": {},
   "outputs": [
    {
     "data": {
      "image/png": "[encoded data removed]",
      "text/plain": [
       "<Figure size 1152x720 with 1 Axes>"
      ]
     },
     "metadata": {
      "needs_background": "light"
     },
     "output_type": "display_data"
    }
   ],
   "source": [
    "# Ran boxplots on overall condition vs price\n",
    "f, ax = plt.subplots(figsize=(16, 10))\n",
    "fig = sns.boxplot(x='Overall Qual', y=\"SalePrice\", data=ames)\n",
    "fig.axis(ymin=0, ymax=700000);"
   ]
  },
  {
   "cell_type": "code",
   "execution_count": 11,
   "metadata": {},
   "outputs": [
    {
     "data": {
      "text/plain": [
       "Pool QC           2042\n",
       "Misc Feature      1986\n",
       "Alley             1911\n",
       "Fence             1651\n",
       "Fireplace Qu      1000\n",
       "Lot Frontage       330\n",
       "Garage Finish      114\n",
       "Garage Cond        114\n",
       "Garage Qual        114\n",
       "Garage Yr Blt      114\n",
       "Garage Type        113\n",
       "Bsmt Exposure       58\n",
       "BsmtFin Type 2      56\n",
       "BsmtFin Type 1      55\n",
       "Bsmt Cond           55\n",
       "Bsmt Qual           55\n",
       "Mas Vnr Type        22\n",
       "Mas Vnr Area        22\n",
       "Bsmt Half Bath       2\n",
       "Bsmt Full Bath       2\n",
       "Garage Cars          1\n",
       "Garage Area          1\n",
       "Bsmt Unf SF          1\n",
       "BsmtFin SF 2         1\n",
       "Total Bsmt SF        1\n",
       "BsmtFin SF 1         1\n",
       "dtype: int64"
      ]
     },
     "execution_count": 11,
     "metadata": {},
     "output_type": "execute_result"
    }
   ],
   "source": [
    "# Viewing missing values in each column\n",
    "#Dropped the 5 columns with more than 1000 missing values\n",
    "\n",
    "ames_isnull = ames.isna().sum().sort_values(ascending=False)\n",
    "ames_isnull[ames_isnull > 0]"
   ]
  },
  {
   "cell_type": "code",
   "execution_count": 12,
   "metadata": {},
   "outputs": [
    {
     "data": {
      "text/plain": [
       "(2051, 76)"
      ]
     },
     "execution_count": 12,
     "metadata": {},
     "output_type": "execute_result"
    }
   ],
   "source": [
    "# Dropped the 5 columns with over 1000 missing values\n",
    "drop_columns = ['Pool QC', 'Misc Feature', 'Alley', 'Fence', 'Fireplace Qu']\n",
    "ames.drop(columns= drop_columns, axis=1,inplace=True)\n",
    "ames.shape"
   ]
  },
  {
   "cell_type": "code",
   "execution_count": 13,
   "metadata": {},
   "outputs": [
    {
     "data": {
      "text/plain": [
       "Lot Frontage      330\n",
       "Garage Yr Blt     114\n",
       "Garage Finish     114\n",
       "Garage Qual       114\n",
       "Garage Cond       114\n",
       "Garage Type       113\n",
       "Bsmt Exposure      58\n",
       "BsmtFin Type 2     56\n",
       "Bsmt Qual          55\n",
       "BsmtFin Type 1     55\n",
       "Bsmt Cond          55\n",
       "Mas Vnr Area       22\n",
       "Mas Vnr Type       22\n",
       "Bsmt Full Bath      2\n",
       "Bsmt Half Bath      2\n",
       "BsmtFin SF 2        1\n",
       "BsmtFin SF 1        1\n",
       "Total Bsmt SF       1\n",
       "Bsmt Unf SF         1\n",
       "Garage Cars         1\n",
       "Garage Area         1\n",
       "dtype: int64"
      ]
     },
     "execution_count": 13,
     "metadata": {},
     "output_type": "execute_result"
    }
   ],
   "source": [
    "# Viewed the remaining null values\n",
    "ames_isnull = ames.isna().sum().sort_values(ascending=False)\n",
    "ames_isnull[ames_isnull > 0]\n"
   ]
  },
  {
   "cell_type": "code",
   "execution_count": 14,
   "metadata": {},
   "outputs": [],
   "source": [
    "# These numbers are categorical, not numerical so I converted them to a string\n",
    "ames['MS SubClass'] = ames['MS SubClass'].astype(str)\n",
    "ames['Yr Sold'] = ames['Yr Sold'].astype(str)\n",
    "ames['Mo Sold'] = ames['Mo Sold'].astype(str)"
   ]
  },
  {
   "cell_type": "code",
   "execution_count": 15,
   "metadata": {},
   "outputs": [],
   "source": [
    "# Filled empty Lot Frontage with the average\n",
    "ames['Lot Frontage'] = ames['Lot Frontage'].fillna(ames['Lot Frontage'].mean())\n",
    "ames['Garage Area'] = ames['Garage Area'].fillna(ames['Garage Area'].mean())"
   ]
  },
  {
   "cell_type": "code",
   "execution_count": 16,
   "metadata": {},
   "outputs": [],
   "source": [
    "# Took forever making a for loop to put NA in the empty cells\n",
    "for col in ('Bsmt Qual', 'Bsmt Cond', 'Bsmt Exposure', 'BsmtFin Type 1', 'BsmtFin Type 2'):\n",
    "    ames[col] = ames[col].fillna('NA')"
   ]
  },
  {
   "cell_type": "code",
   "execution_count": 17,
   "metadata": {},
   "outputs": [],
   "source": [
    "# I took Basement Square feet empty  means no basement\n",
    "ames['Total Bsmt SF'] = ames['Total Bsmt SF'].fillna(0)\n",
    "ames['BsmtFin SF 1'] = ames['BsmtFin SF 1'].fillna(0)\n",
    "ames['BsmtFin SF 2'] = ames['BsmtFin SF 2'].fillna(0)\n",
    "ames['Bsmt Unf SF'] = ames['Bsmt Unf SF'].fillna(0)"
   ]
  },
  {
   "cell_type": "code",
   "execution_count": 18,
   "metadata": {},
   "outputs": [],
   "source": [
    "# I used the mode for these, each had only 22 or less empty cells\n",
    "ames['Bsmt Half Bath'] = ames['Bsmt Half Bath'].fillna(ames['Bsmt Half Bath'].mode()[0])\n",
    "ames['Bsmt Full Bath'] = ames['Bsmt Full Bath'].fillna(ames['Bsmt Full Bath'].mode()[0])\n",
    "ames['Mas Vnr Type'] = ames['Mas Vnr Type'].fillna(ames['Mas Vnr Type'].mode()[0])\n",
    "ames['Garage Cars'] = ames['Garage Cars'].fillna(ames['Garage Cars'].mode()[0])\n",
    "ames['Electrical'] = ames['Electrical'].fillna(ames['Electrical'].mode()[0])"
   ]
  },
  {
   "cell_type": "code",
   "execution_count": 19,
   "metadata": {},
   "outputs": [],
   "source": [
    "# These 4 garage columns had 114 missing values each, I listed these as no Garage\n",
    "for col in ('Garage Finish', 'Garage Qual', 'Garage Cond', 'Garage Type'):\n",
    "    ames[col] = ames[col].fillna('No Garage')"
   ]
  },
  {
   "cell_type": "code",
   "execution_count": 20,
   "metadata": {},
   "outputs": [],
   "source": [
    "# I took Garage Year Built  empty means no Garage\n",
    "ames['Garage Yr Blt'] = ames['Garage Yr Blt'].fillna(0)"
   ]
  },
  {
   "cell_type": "code",
   "execution_count": 21,
   "metadata": {},
   "outputs": [],
   "source": [
    "# I took Mas Vnr Area empty means no Mas Vnr Area\n",
    "ames['Mas Vnr Area'] = ames['Mas Vnr Area'].fillna(0)"
   ]
  },
  {
   "cell_type": "code",
   "execution_count": 22,
   "metadata": {},
   "outputs": [],
   "source": [
    "# Made a new column for Total square feet for the house, removed the 3 columns to make it up\n",
    "ames['Total SF'] = ames['Total Bsmt SF'] + ames['1st Flr SF'] + ames['2nd Flr SF']\n",
    "# ames.drop(['Total Bsmt SF', '1st Flr SF', '2nd Flr SF'], axis=1, inplace=True)"
   ]
  },
  {
   "cell_type": "code",
   "execution_count": 23,
   "metadata": {},
   "outputs": [],
   "source": [
    "# Made a coumn for has porch from the other porch columns\n",
    "ames['Porch'] = ames['Enclosed Porch'] + ames['3Ssn Porch'] + ames['Screen Porch']+ ames['Open Porch SF']\n",
    "ames['Porch'] = np.where(ames['Porch']>=1,1,0)\n",
    "ames.drop(['Enclosed Porch', '3Ssn Porch', 'Screen Porch','Open Porch SF'], axis=1, inplace=True)"
   ]
  },
  {
   "cell_type": "code",
   "execution_count": 24,
   "metadata": {},
   "outputs": [],
   "source": [
    "# Did log of these 5 columns\n",
    "ames['Year Built_log'] = np.log(ames['Year Built'])\n",
    "ames['TotRms AbvGrd_log'] = np.log(ames['TotRms AbvGrd'])\n",
    "ames['1st Flr SF_log'] = np.log(ames['1st Flr SF'])\n",
    "ames['Gr Liv Area_log'] = np.log(ames['Gr Liv Area'])\n",
    "ames['Total SF_log'] = np.log(ames['Total SF'])\n"
   ]
  },
  {
   "cell_type": "code",
   "execution_count": 25,
   "metadata": {},
   "outputs": [],
   "source": [
    "# Made price per square feet, but left it out because the test data does not have the salesprice\n",
    "# ames[\"Price Per SF\"] = ames[\"SalePrice\"]/ames[\"Gr Liv Area\"]"
   ]
  },
  {
   "cell_type": "code",
   "execution_count": 26,
   "metadata": {},
   "outputs": [
    {
     "data": {
      "text/html": [
       "<div>\n",
       "<style scoped>\n",
       "    .dataframe tbody tr th:only-of-type {\n",
       "        vertical-align: middle;\n",
       "    }\n",
       "\n",
       "    .dataframe tbody tr th {\n",
       "        vertical-align: top;\n",
       "    }\n",
       "\n",
       "    .dataframe thead th {\n",
       "        text-align: right;\n",
       "    }\n",
       "</style>\n",
       "<table border=\"1\" class=\"dataframe\">\n",
       "  <thead>\n",
       "    <tr style=\"text-align: right;\">\n",
       "      <th></th>\n",
       "      <th>Id</th>\n",
       "      <th>PID</th>\n",
       "      <th>MS SubClass</th>\n",
       "      <th>MS Zoning</th>\n",
       "      <th>Lot Frontage</th>\n",
       "      <th>Lot Area</th>\n",
       "      <th>Street</th>\n",
       "      <th>Lot Shape</th>\n",
       "      <th>Land Contour</th>\n",
       "      <th>Utilities</th>\n",
       "      <th>...</th>\n",
       "      <th>Yr Sold</th>\n",
       "      <th>Sale Type</th>\n",
       "      <th>SalePrice</th>\n",
       "      <th>Total SF</th>\n",
       "      <th>Porch</th>\n",
       "      <th>Year Built_log</th>\n",
       "      <th>TotRms AbvGrd_log</th>\n",
       "      <th>1st Flr SF_log</th>\n",
       "      <th>Gr Liv Area_log</th>\n",
       "      <th>Total SF_log</th>\n",
       "    </tr>\n",
       "  </thead>\n",
       "  <tbody>\n",
       "    <tr>\n",
       "      <th>0</th>\n",
       "      <td>109</td>\n",
       "      <td>533352170</td>\n",
       "      <td>60</td>\n",
       "      <td>RL</td>\n",
       "      <td>69.0552</td>\n",
       "      <td>13517</td>\n",
       "      <td>Pave</td>\n",
       "      <td>IR1</td>\n",
       "      <td>Lvl</td>\n",
       "      <td>AllPub</td>\n",
       "      <td>...</td>\n",
       "      <td>2010</td>\n",
       "      <td>WD</td>\n",
       "      <td>130500</td>\n",
       "      <td>2204.0</td>\n",
       "      <td>1</td>\n",
       "      <td>7.588830</td>\n",
       "      <td>1.791759</td>\n",
       "      <td>6.586172</td>\n",
       "      <td>7.299121</td>\n",
       "      <td>7.698029</td>\n",
       "    </tr>\n",
       "    <tr>\n",
       "      <th>1</th>\n",
       "      <td>544</td>\n",
       "      <td>531379050</td>\n",
       "      <td>60</td>\n",
       "      <td>RL</td>\n",
       "      <td>43.0000</td>\n",
       "      <td>11492</td>\n",
       "      <td>Pave</td>\n",
       "      <td>IR1</td>\n",
       "      <td>Lvl</td>\n",
       "      <td>AllPub</td>\n",
       "      <td>...</td>\n",
       "      <td>2009</td>\n",
       "      <td>WD</td>\n",
       "      <td>220000</td>\n",
       "      <td>3035.0</td>\n",
       "      <td>1</td>\n",
       "      <td>7.598900</td>\n",
       "      <td>2.079442</td>\n",
       "      <td>6.816736</td>\n",
       "      <td>7.660114</td>\n",
       "      <td>8.017967</td>\n",
       "    </tr>\n",
       "    <tr>\n",
       "      <th>2</th>\n",
       "      <td>153</td>\n",
       "      <td>535304180</td>\n",
       "      <td>20</td>\n",
       "      <td>RL</td>\n",
       "      <td>68.0000</td>\n",
       "      <td>7922</td>\n",
       "      <td>Pave</td>\n",
       "      <td>Reg</td>\n",
       "      <td>Lvl</td>\n",
       "      <td>AllPub</td>\n",
       "      <td>...</td>\n",
       "      <td>2010</td>\n",
       "      <td>WD</td>\n",
       "      <td>109000</td>\n",
       "      <td>2114.0</td>\n",
       "      <td>1</td>\n",
       "      <td>7.577122</td>\n",
       "      <td>1.609438</td>\n",
       "      <td>6.963190</td>\n",
       "      <td>6.963190</td>\n",
       "      <td>7.656337</td>\n",
       "    </tr>\n",
       "    <tr>\n",
       "      <th>3</th>\n",
       "      <td>318</td>\n",
       "      <td>916386060</td>\n",
       "      <td>60</td>\n",
       "      <td>RL</td>\n",
       "      <td>73.0000</td>\n",
       "      <td>9802</td>\n",
       "      <td>Pave</td>\n",
       "      <td>Reg</td>\n",
       "      <td>Lvl</td>\n",
       "      <td>AllPub</td>\n",
       "      <td>...</td>\n",
       "      <td>2010</td>\n",
       "      <td>WD</td>\n",
       "      <td>174000</td>\n",
       "      <td>1828.0</td>\n",
       "      <td>0</td>\n",
       "      <td>7.603898</td>\n",
       "      <td>1.945910</td>\n",
       "      <td>6.612041</td>\n",
       "      <td>7.275172</td>\n",
       "      <td>7.510978</td>\n",
       "    </tr>\n",
       "    <tr>\n",
       "      <th>4</th>\n",
       "      <td>255</td>\n",
       "      <td>906425045</td>\n",
       "      <td>50</td>\n",
       "      <td>RL</td>\n",
       "      <td>82.0000</td>\n",
       "      <td>14235</td>\n",
       "      <td>Pave</td>\n",
       "      <td>IR1</td>\n",
       "      <td>Lvl</td>\n",
       "      <td>AllPub</td>\n",
       "      <td>...</td>\n",
       "      <td>2010</td>\n",
       "      <td>WD</td>\n",
       "      <td>138500</td>\n",
       "      <td>2121.0</td>\n",
       "      <td>1</td>\n",
       "      <td>7.549609</td>\n",
       "      <td>1.791759</td>\n",
       "      <td>6.722630</td>\n",
       "      <td>7.275865</td>\n",
       "      <td>7.659643</td>\n",
       "    </tr>\n",
       "  </tbody>\n",
       "</table>\n",
       "<p>5 rows × 79 columns</p>\n",
       "</div>"
      ],
      "text/plain": [
       "    Id        PID MS SubClass MS Zoning  Lot Frontage  Lot Area Street  \\\n",
       "0  109  533352170          60        RL       69.0552     13517   Pave   \n",
       "1  544  531379050          60        RL       43.0000     11492   Pave   \n",
       "2  153  535304180          20        RL       68.0000      7922   Pave   \n",
       "3  318  916386060          60        RL       73.0000      9802   Pave   \n",
       "4  255  906425045          50        RL       82.0000     14235   Pave   \n",
       "\n",
       "  Lot Shape Land Contour Utilities  ... Yr Sold Sale Type SalePrice Total SF  \\\n",
       "0       IR1          Lvl    AllPub  ...    2010       WD     130500   2204.0   \n",
       "1       IR1          Lvl    AllPub  ...    2009       WD     220000   3035.0   \n",
       "2       Reg          Lvl    AllPub  ...    2010       WD     109000   2114.0   \n",
       "3       Reg          Lvl    AllPub  ...    2010       WD     174000   1828.0   \n",
       "4       IR1          Lvl    AllPub  ...    2010       WD     138500   2121.0   \n",
       "\n",
       "  Porch Year Built_log TotRms AbvGrd_log  1st Flr SF_log  Gr Liv Area_log  \\\n",
       "0     1       7.588830          1.791759        6.586172         7.299121   \n",
       "1     1       7.598900          2.079442        6.816736         7.660114   \n",
       "2     1       7.577122          1.609438        6.963190         6.963190   \n",
       "3     0       7.603898          1.945910        6.612041         7.275172   \n",
       "4     1       7.549609          1.791759        6.722630         7.275865   \n",
       "\n",
       "   Total SF_log  \n",
       "0      7.698029  \n",
       "1      8.017967  \n",
       "2      7.656337  \n",
       "3      7.510978  \n",
       "4      7.659643  \n",
       "\n",
       "[5 rows x 79 columns]"
      ]
     },
     "execution_count": 26,
     "metadata": {},
     "output_type": "execute_result"
    }
   ],
   "source": [
    "ames.head()"
   ]
  },
  {
   "cell_type": "code",
   "execution_count": 27,
   "metadata": {},
   "outputs": [],
   "source": [
    "# Dropped less than 10 outliers to improve predictions\n",
    "ames.drop(ames[ames['Total SF'] >= 5500].index, inplace=True)\n",
    "ames.drop(ames[ames['SalePrice'] >= 535000].index, inplace=True)"
   ]
  },
  {
   "cell_type": "code",
   "execution_count": 28,
   "metadata": {},
   "outputs": [
    {
     "data": {
      "text/plain": [
       "Series([], dtype: int64)"
      ]
     },
     "execution_count": 28,
     "metadata": {},
     "output_type": "execute_result"
    }
   ],
   "source": [
    "# EDA has gotten rid of the null values\n",
    "\n",
    "ames_isnull = ames.isna().sum().sort_values(ascending=False)\n",
    "ames_isnull[ames_isnull > 0]"
   ]
  },
  {
   "cell_type": "code",
   "execution_count": 29,
   "metadata": {},
   "outputs": [],
   "source": [
    "# #Made dummy columns for the non numerical dataframes with one hot encoding\n",
    "# Did not use most of the dummy columns so I commented this out\n",
    "# ames = pd.get_dummies(ames,drop_first=True)\n",
    "# ames.head()"
   ]
  },
  {
   "cell_type": "code",
   "execution_count": 30,
   "metadata": {},
   "outputs": [
    {
     "data": {
      "text/html": [
       "<div>\n",
       "<style scoped>\n",
       "    .dataframe tbody tr th:only-of-type {\n",
       "        vertical-align: middle;\n",
       "    }\n",
       "\n",
       "    .dataframe tbody tr th {\n",
       "        vertical-align: top;\n",
       "    }\n",
       "\n",
       "    .dataframe thead th {\n",
       "        text-align: right;\n",
       "    }\n",
       "</style>\n",
       "<table border=\"1\" class=\"dataframe\">\n",
       "  <thead>\n",
       "    <tr style=\"text-align: right;\">\n",
       "      <th></th>\n",
       "      <th>Id</th>\n",
       "      <th>PID</th>\n",
       "      <th>MS SubClass</th>\n",
       "      <th>MS Zoning</th>\n",
       "      <th>Lot Frontage</th>\n",
       "      <th>Lot Area</th>\n",
       "      <th>Street</th>\n",
       "      <th>Lot Shape</th>\n",
       "      <th>Land Contour</th>\n",
       "      <th>Utilities</th>\n",
       "      <th>...</th>\n",
       "      <th>Neighborhood_NoRidge</th>\n",
       "      <th>Neighborhood_NridgHt</th>\n",
       "      <th>Neighborhood_OldTown</th>\n",
       "      <th>Neighborhood_SWISU</th>\n",
       "      <th>Neighborhood_Sawyer</th>\n",
       "      <th>Neighborhood_SawyerW</th>\n",
       "      <th>Neighborhood_Somerst</th>\n",
       "      <th>Neighborhood_StoneBr</th>\n",
       "      <th>Neighborhood_Timber</th>\n",
       "      <th>Neighborhood_Veenker</th>\n",
       "    </tr>\n",
       "  </thead>\n",
       "  <tbody>\n",
       "    <tr>\n",
       "      <th>0</th>\n",
       "      <td>109</td>\n",
       "      <td>533352170</td>\n",
       "      <td>60</td>\n",
       "      <td>RL</td>\n",
       "      <td>69.0552</td>\n",
       "      <td>13517</td>\n",
       "      <td>Pave</td>\n",
       "      <td>IR1</td>\n",
       "      <td>Lvl</td>\n",
       "      <td>AllPub</td>\n",
       "      <td>...</td>\n",
       "      <td>0</td>\n",
       "      <td>0</td>\n",
       "      <td>0</td>\n",
       "      <td>0</td>\n",
       "      <td>1</td>\n",
       "      <td>0</td>\n",
       "      <td>0</td>\n",
       "      <td>0</td>\n",
       "      <td>0</td>\n",
       "      <td>0</td>\n",
       "    </tr>\n",
       "    <tr>\n",
       "      <th>1</th>\n",
       "      <td>544</td>\n",
       "      <td>531379050</td>\n",
       "      <td>60</td>\n",
       "      <td>RL</td>\n",
       "      <td>43.0000</td>\n",
       "      <td>11492</td>\n",
       "      <td>Pave</td>\n",
       "      <td>IR1</td>\n",
       "      <td>Lvl</td>\n",
       "      <td>AllPub</td>\n",
       "      <td>...</td>\n",
       "      <td>0</td>\n",
       "      <td>0</td>\n",
       "      <td>0</td>\n",
       "      <td>0</td>\n",
       "      <td>0</td>\n",
       "      <td>1</td>\n",
       "      <td>0</td>\n",
       "      <td>0</td>\n",
       "      <td>0</td>\n",
       "      <td>0</td>\n",
       "    </tr>\n",
       "    <tr>\n",
       "      <th>2</th>\n",
       "      <td>153</td>\n",
       "      <td>535304180</td>\n",
       "      <td>20</td>\n",
       "      <td>RL</td>\n",
       "      <td>68.0000</td>\n",
       "      <td>7922</td>\n",
       "      <td>Pave</td>\n",
       "      <td>Reg</td>\n",
       "      <td>Lvl</td>\n",
       "      <td>AllPub</td>\n",
       "      <td>...</td>\n",
       "      <td>0</td>\n",
       "      <td>0</td>\n",
       "      <td>0</td>\n",
       "      <td>0</td>\n",
       "      <td>0</td>\n",
       "      <td>0</td>\n",
       "      <td>0</td>\n",
       "      <td>0</td>\n",
       "      <td>0</td>\n",
       "      <td>0</td>\n",
       "    </tr>\n",
       "    <tr>\n",
       "      <th>3</th>\n",
       "      <td>318</td>\n",
       "      <td>916386060</td>\n",
       "      <td>60</td>\n",
       "      <td>RL</td>\n",
       "      <td>73.0000</td>\n",
       "      <td>9802</td>\n",
       "      <td>Pave</td>\n",
       "      <td>Reg</td>\n",
       "      <td>Lvl</td>\n",
       "      <td>AllPub</td>\n",
       "      <td>...</td>\n",
       "      <td>0</td>\n",
       "      <td>0</td>\n",
       "      <td>0</td>\n",
       "      <td>0</td>\n",
       "      <td>0</td>\n",
       "      <td>0</td>\n",
       "      <td>0</td>\n",
       "      <td>0</td>\n",
       "      <td>1</td>\n",
       "      <td>0</td>\n",
       "    </tr>\n",
       "    <tr>\n",
       "      <th>4</th>\n",
       "      <td>255</td>\n",
       "      <td>906425045</td>\n",
       "      <td>50</td>\n",
       "      <td>RL</td>\n",
       "      <td>82.0000</td>\n",
       "      <td>14235</td>\n",
       "      <td>Pave</td>\n",
       "      <td>IR1</td>\n",
       "      <td>Lvl</td>\n",
       "      <td>AllPub</td>\n",
       "      <td>...</td>\n",
       "      <td>0</td>\n",
       "      <td>0</td>\n",
       "      <td>0</td>\n",
       "      <td>0</td>\n",
       "      <td>0</td>\n",
       "      <td>1</td>\n",
       "      <td>0</td>\n",
       "      <td>0</td>\n",
       "      <td>0</td>\n",
       "      <td>0</td>\n",
       "    </tr>\n",
       "  </tbody>\n",
       "</table>\n",
       "<p>5 rows × 106 columns</p>\n",
       "</div>"
      ],
      "text/plain": [
       "    Id        PID MS SubClass MS Zoning  Lot Frontage  Lot Area Street  \\\n",
       "0  109  533352170          60        RL       69.0552     13517   Pave   \n",
       "1  544  531379050          60        RL       43.0000     11492   Pave   \n",
       "2  153  535304180          20        RL       68.0000      7922   Pave   \n",
       "3  318  916386060          60        RL       73.0000      9802   Pave   \n",
       "4  255  906425045          50        RL       82.0000     14235   Pave   \n",
       "\n",
       "  Lot Shape Land Contour Utilities  ... Neighborhood_NoRidge  \\\n",
       "0       IR1          Lvl    AllPub  ...                    0   \n",
       "1       IR1          Lvl    AllPub  ...                    0   \n",
       "2       Reg          Lvl    AllPub  ...                    0   \n",
       "3       Reg          Lvl    AllPub  ...                    0   \n",
       "4       IR1          Lvl    AllPub  ...                    0   \n",
       "\n",
       "  Neighborhood_NridgHt Neighborhood_OldTown Neighborhood_SWISU  \\\n",
       "0                    0                    0                  0   \n",
       "1                    0                    0                  0   \n",
       "2                    0                    0                  0   \n",
       "3                    0                    0                  0   \n",
       "4                    0                    0                  0   \n",
       "\n",
       "  Neighborhood_Sawyer Neighborhood_SawyerW  Neighborhood_Somerst  \\\n",
       "0                   1                    0                     0   \n",
       "1                   0                    1                     0   \n",
       "2                   0                    0                     0   \n",
       "3                   0                    0                     0   \n",
       "4                   0                    1                     0   \n",
       "\n",
       "   Neighborhood_StoneBr  Neighborhood_Timber  Neighborhood_Veenker  \n",
       "0                     0                    0                     0  \n",
       "1                     0                    0                     0  \n",
       "2                     0                    0                     0  \n",
       "3                     0                    1                     0  \n",
       "4                     0                    0                     0  \n",
       "\n",
       "[5 rows x 106 columns]"
      ]
     },
     "execution_count": 30,
     "metadata": {},
     "output_type": "execute_result"
    }
   ],
   "source": [
    "# Ran get dummies on Neighborhood \n",
    "ames = pd.get_dummies(ames,columns = ['Neighborhood'])\n",
    "ames.head()"
   ]
  },
  {
   "cell_type": "code",
   "execution_count": 31,
   "metadata": {},
   "outputs": [],
   "source": [
    "# Used for list of column names\n",
    "# list(ames)"
   ]
  },
  {
   "cell_type": "code",
   "execution_count": 32,
   "metadata": {},
   "outputs": [
    {
     "data": {
      "image/png": "[encoded data removed]",
      "text/plain": [
       "<Figure size 432x720 with 2 Axes>"
      ]
     },
     "metadata": {
      "needs_background": "light"
     },
     "output_type": "display_data"
    }
   ],
   "source": [
    "# Re-ran correlation after EDA\n",
    "corr = ames.corr()\n",
    "plt.figure(figsize = (6,10))\n",
    "sns.heatmap(corr[[\"SalePrice\"]].sort_values(by = \"SalePrice\", ascending = False).head(20),vmin = -1, annot = True)\n",
    "plt.show()"
   ]
  },
  {
   "cell_type": "code",
   "execution_count": 33,
   "metadata": {},
   "outputs": [
    {
     "data": {
      "image/png": "[encoded data removed]",
      "text/plain": [
       "<Figure size 432x288 with 1 Axes>"
      ]
     },
     "metadata": {
      "needs_background": "light"
     },
     "output_type": "display_data"
    }
   ],
   "source": [
    "# Distribution plot for total square feet\n",
    "sns.distplot(ames['Total SF']);"
   ]
  },
  {
   "cell_type": "code",
   "execution_count": 34,
   "metadata": {
    "scrolled": true
   },
   "outputs": [
    {
     "data": {
      "text/plain": [
       "<matplotlib.axes._subplots.AxesSubplot at 0x1a1730a750>"
      ]
     },
     "execution_count": 34,
     "metadata": {},
     "output_type": "execute_result"
    },
    {
     "data": {
      "image/png": "[encoded data removed]",
      "text/plain": [
       "<Figure size 432x288 with 1 Axes>"
      ]
     },
     "metadata": {
      "needs_background": "light"
     },
     "output_type": "display_data"
    }
   ],
   "source": [
    "# Distribution plot for log of Total square feet\n",
    "sns.distplot(np.log10(ames['Total SF']))"
   ]
  },
  {
   "cell_type": "code",
   "execution_count": 35,
   "metadata": {},
   "outputs": [],
   "source": [
    "# features = [col for col in ames._get_numeric_data().columns if col != 'SalePrice']\n",
    "\n",
    "#Features to use for train and test data sets\n",
    "features = [\n",
    "            'Gr Liv Area',\n",
    "            'Year Built',\n",
    "            'Total SF',\n",
    "            'TotRms AbvGrd',\n",
    "            'Fireplaces',\n",
    "            'Overall Qual', \n",
    "            'Gr Liv Area',\n",
    "            'Garage Area', \n",
    "            'Year Remod/Add',\n",
    "#             'Mas Vnr Area',\n",
    "#             'Total Bsmt SF',\n",
    "#             'Lot Area', \n",
    "#             'Pool Area',\n",
    "            'Year Built_log',\n",
    "            'TotRms AbvGrd_log',\n",
    "            '1st Flr SF_log',\n",
    "            'Gr Liv Area_log',\n",
    "            'Total SF_log',\n",
    "#             'Neighborhood_Blmngtn',\n",
    "            'Neighborhood_Blueste',\n",
    "             'Neighborhood_BrDale',\n",
    "             'Neighborhood_BrkSide',\n",
    "             'Neighborhood_ClearCr',\n",
    "             'Neighborhood_CollgCr',\n",
    "             'Neighborhood_Crawfor',\n",
    "             'Neighborhood_Edwards',\n",
    "             'Neighborhood_Gilbert',\n",
    "             'Neighborhood_Greens',\n",
    "             'Neighborhood_GrnHill',\n",
    "             'Neighborhood_Landmrk',\n",
    "             'Neighborhood_IDOTRR',\n",
    "             'Neighborhood_MeadowV',\n",
    "             'Neighborhood_Mitchel',\n",
    "             'Neighborhood_NAmes',\n",
    "             'Neighborhood_NPkVill',\n",
    "             'Neighborhood_NWAmes',\n",
    "             'Neighborhood_NoRidge',\n",
    "             'Neighborhood_NridgHt',\n",
    "             'Neighborhood_OldTown',\n",
    "             'Neighborhood_SWISU',\n",
    "             'Neighborhood_Sawyer',\n",
    "             'Neighborhood_SawyerW',\n",
    "             'Neighborhood_Somerst',\n",
    "             'Neighborhood_StoneBr',\n",
    "             'Neighborhood_Timber',\n",
    "             'Neighborhood_Veenker',\n",
    "            \n",
    "\n",
    "]"
   ]
  },
  {
   "cell_type": "markdown",
   "metadata": {},
   "source": [
    "## Creating the Model"
   ]
  },
  {
   "cell_type": "code",
   "execution_count": 36,
   "metadata": {},
   "outputs": [],
   "source": [
    "# Created x and y variables for my model\n",
    "ames_features = features\n",
    "y =ames['SalePrice'] # y = what we want to predict\n",
    "X = ames[ames_features]"
   ]
  },
  {
   "cell_type": "code",
   "execution_count": 37,
   "metadata": {},
   "outputs": [
    {
     "data": {
      "text/plain": [
       "LinearRegression(copy_X=True, fit_intercept=True, n_jobs=None, normalize=False)"
      ]
     },
     "execution_count": 37,
     "metadata": {},
     "output_type": "execute_result"
    }
   ],
   "source": [
    "# Created my model and started the train test split\n",
    "# Help from Daniel getting the standard scaler working\n",
    "\n",
    "linreg = LinearRegression()\n",
    "\n",
    "X_train, X_test, y_train, y_test = train_test_split(X, y)\n",
    "scaler = StandardScaler().fit(X_train)\n",
    "\n",
    "X_train_scaler = scaler.transform(X_train)\n",
    "X_test_scaler = scaler.transform(X_test)\n",
    "linreg.fit(X_train_scaler, y_train)\n",
    "\n"
   ]
  },
  {
   "cell_type": "code",
   "execution_count": 38,
   "metadata": {},
   "outputs": [],
   "source": [
    "y_preds = linreg.predict(X_train)\n",
    "test_pred = linreg.predict(X_test_scaler)"
   ]
  },
  {
   "cell_type": "code",
   "execution_count": 39,
   "metadata": {},
   "outputs": [
    {
     "data": {
      "text/plain": [
       "array([0.87876779, 0.8926449 , 0.85356438, 0.85432863, 0.86322522])"
      ]
     },
     "execution_count": 39,
     "metadata": {},
     "output_type": "execute_result"
    }
   ],
   "source": [
    "# Ran cross val score on training\n",
    "cross_val_score(linreg, X_train, y_train)"
   ]
  },
  {
   "cell_type": "code",
   "execution_count": 40,
   "metadata": {},
   "outputs": [
    {
     "data": {
      "text/plain": [
       "0.8685061834848954"
      ]
     },
     "execution_count": 40,
     "metadata": {},
     "output_type": "execute_result"
    }
   ],
   "source": [
    "# Ran mean of the cross val score on training\n",
    "cross_val_score(linreg, X_train, y_train).mean()"
   ]
  },
  {
   "cell_type": "code",
   "execution_count": 41,
   "metadata": {},
   "outputs": [
    {
     "data": {
      "text/plain": [
       "0.8804746185646561"
      ]
     },
     "execution_count": 41,
     "metadata": {},
     "output_type": "execute_result"
    }
   ],
   "source": [
    "# Ran my model on the training\n",
    "linreg.score(X_train_scaler,y_train)"
   ]
  },
  {
   "cell_type": "code",
   "execution_count": 42,
   "metadata": {},
   "outputs": [
    {
     "data": {
      "text/plain": [
       "0.8713438551257846"
      ]
     },
     "execution_count": 42,
     "metadata": {},
     "output_type": "execute_result"
    }
   ],
   "source": [
    "# Ran my model on the testing\n",
    "linreg.score(X_test_scaler,y_test)"
   ]
  },
  {
   "cell_type": "code",
   "execution_count": 43,
   "metadata": {},
   "outputs": [],
   "source": [
    "# Predictions\n",
    "preds_train = linreg.predict(X_train_scaler)\n",
    "preds_test = linreg.predict(X_test_scaler)"
   ]
  },
  {
   "cell_type": "code",
   "execution_count": 44,
   "metadata": {},
   "outputs": [
    {
     "data": {
      "text/plain": [
       "645354327.3824127"
      ]
     },
     "execution_count": 44,
     "metadata": {},
     "output_type": "execute_result"
    }
   ],
   "source": [
    "# The MSE for training\n",
    "mean_squared_error(y_train, preds_train)"
   ]
  },
  {
   "cell_type": "code",
   "execution_count": 45,
   "metadata": {},
   "outputs": [
    {
     "data": {
      "text/plain": [
       "739369201.3478884"
      ]
     },
     "execution_count": 45,
     "metadata": {},
     "output_type": "execute_result"
    }
   ],
   "source": [
    "# The MSE for testing\n",
    "mean_squared_error(y_test, preds_test)"
   ]
  },
  {
   "cell_type": "code",
   "execution_count": 46,
   "metadata": {},
   "outputs": [
    {
     "data": {
      "text/plain": [
       "25403.825054160894"
      ]
     },
     "execution_count": 46,
     "metadata": {},
     "output_type": "execute_result"
    }
   ],
   "source": [
    "# The RMSE for training\n",
    "rmse_train = np.sqrt(mean_squared_error(y_train, preds_train))\n",
    "rmse_train"
   ]
  },
  {
   "cell_type": "code",
   "execution_count": 47,
   "metadata": {},
   "outputs": [
    {
     "data": {
      "text/plain": [
       "27191.34423576533"
      ]
     },
     "execution_count": 47,
     "metadata": {},
     "output_type": "execute_result"
    }
   ],
   "source": [
    "# The RMSE for testing\n",
    "rmse_test = np.sqrt(mean_squared_error(y_test, preds_test))\n",
    "rmse_test"
   ]
  },
  {
   "cell_type": "code",
   "execution_count": 48,
   "metadata": {},
   "outputs": [
    {
     "data": {
      "text/plain": [
       "0.8804746185646561"
      ]
     },
     "execution_count": 48,
     "metadata": {},
     "output_type": "execute_result"
    }
   ],
   "source": [
    "# The r2 score for training\n",
    "metrics.r2_score(y_train, preds_train)"
   ]
  },
  {
   "cell_type": "code",
   "execution_count": 49,
   "metadata": {},
   "outputs": [
    {
     "data": {
      "text/plain": [
       "0.8713438551257846"
      ]
     },
     "execution_count": 49,
     "metadata": {},
     "output_type": "execute_result"
    }
   ],
   "source": [
    "# The r2 score for testing\n",
    "metrics.r2_score(y_test, preds_test)"
   ]
  },
  {
   "cell_type": "code",
   "execution_count": null,
   "metadata": {
    "scrolled": true
   },
   "outputs": [],
   "source": []
  },
  {
   "cell_type": "markdown",
   "metadata": {},
   "source": [
    "## Using the Test Data"
   ]
  },
  {
   "cell_type": "code",
   "execution_count": 50,
   "metadata": {},
   "outputs": [],
   "source": [
    "# Imported the test data set\n",
    "test = pd.read_csv('./datasets/test.csv')"
   ]
  },
  {
   "cell_type": "code",
   "execution_count": 51,
   "metadata": {},
   "outputs": [
    {
     "data": {
      "text/plain": [
       "(878, 75)"
      ]
     },
     "execution_count": 51,
     "metadata": {},
     "output_type": "execute_result"
    }
   ],
   "source": [
    "# Deopped same 5 columns as above\n",
    "drop_columns = ['Pool QC', 'Misc Feature', 'Alley', 'Fence', 'Fireplace Qu']\n",
    "test.drop(columns= drop_columns, axis=1,inplace=True)\n",
    "test.shape"
   ]
  },
  {
   "cell_type": "code",
   "execution_count": 52,
   "metadata": {},
   "outputs": [
    {
     "data": {
      "text/plain": [
       "Series([], dtype: int64)"
      ]
     },
     "execution_count": 52,
     "metadata": {},
     "output_type": "execute_result"
    }
   ],
   "source": [
    "# Copied down the EDA from above and ran it in one cell\n",
    "test['MS SubClass'] = test['MS SubClass'].astype(str)\n",
    "test['Yr Sold'] = test['Yr Sold'].astype(str)\n",
    "test['Mo Sold'] = test['Mo Sold'].astype(str)\n",
    "test['Lot Frontage'] = test['Lot Frontage'].fillna(test['Lot Frontage'].mean())\n",
    "test['Garage Area'] = test['Garage Area'].fillna(test['Garage Area'].mean())\n",
    "for col in ('Bsmt Qual', 'Bsmt Cond', 'Bsmt Exposure', 'BsmtFin Type 1', 'BsmtFin Type 2'):\n",
    "    test[col] = test[col].fillna('NA')\n",
    "test['Total Bsmt SF'] = test['Total Bsmt SF'].fillna(0)\n",
    "test['BsmtFin SF 1'] = test['BsmtFin SF 1'].fillna(0)\n",
    "test['BsmtFin SF 2'] = test['BsmtFin SF 2'].fillna(0)\n",
    "test['Bsmt Unf SF'] = test['Bsmt Unf SF'].fillna(0)\n",
    "test['Bsmt Half Bath'] = test['Bsmt Half Bath'].fillna(test['Bsmt Half Bath'].mode()[0])\n",
    "test['Bsmt Full Bath'] = test['Bsmt Full Bath'].fillna(test['Bsmt Full Bath'].mode()[0])\n",
    "test['Mas Vnr Type'] = test['Mas Vnr Type'].fillna(test['Mas Vnr Type'].mode()[0])\n",
    "test['Garage Cars'] = test['Garage Cars'].fillna(test['Garage Cars'].mode()[0])\n",
    "for col in ('Garage Finish', 'Garage Qual', 'Garage Cond', 'Garage Type'):\n",
    "    test[col] = test[col].fillna('No Garage')\n",
    "test['Garage Yr Blt'] = test['Garage Yr Blt'].fillna(0)\n",
    "test['Mas Vnr Area'] = test['Mas Vnr Area'].fillna(0)\n",
    "test['Total SF'] = test['Total Bsmt SF'] + test['1st Flr SF'] + test['2nd Flr SF']\n",
    "# test.drop(['Total Bsmt SF', '1st Flr SF', '2nd Flr SF'], axis=1, inplace=True)\n",
    "test['Electrical'] = test['Electrical'].fillna(test['Electrical'].mode()[0])\n",
    "test['Porch'] = test['Enclosed Porch'] + test['3Ssn Porch'] + test['Screen Porch']+ test['Open Porch SF']\n",
    "test['Porch'] = np.where(test['Porch']>=1,1,0)\n",
    "test.drop(['Enclosed Porch', '3Ssn Porch', 'Screen Porch','Open Porch SF'], axis=1, inplace=True)\n",
    "test['Year Built_log'] = np.log(test['Year Built'])\n",
    "test['TotRms AbvGrd_log'] = np.log(test['TotRms AbvGrd'])\n",
    "test['1st Flr SF_log'] = np.log(test['1st Flr SF'])\n",
    "test['Gr Liv Area_log'] = np.log(test['Gr Liv Area'])\n",
    "test['Total SF_log'] = np.log(test['Total SF'])\n",
    "\n",
    "test_isnull = test.isna().sum().sort_values(ascending=False)\n",
    "test_isnull[test_isnull > 0]"
   ]
  },
  {
   "cell_type": "code",
   "execution_count": 53,
   "metadata": {},
   "outputs": [],
   "source": [
    "# Did not find most of the get dummies I created useful, commented the out\n",
    "# test = pd.get_dummies(test,drop_first=True)\n",
    "# test.head()"
   ]
  },
  {
   "cell_type": "code",
   "execution_count": 54,
   "metadata": {},
   "outputs": [
    {
     "data": {
      "text/html": [
       "<div>\n",
       "<style scoped>\n",
       "    .dataframe tbody tr th:only-of-type {\n",
       "        vertical-align: middle;\n",
       "    }\n",
       "\n",
       "    .dataframe tbody tr th {\n",
       "        vertical-align: top;\n",
       "    }\n",
       "\n",
       "    .dataframe thead th {\n",
       "        text-align: right;\n",
       "    }\n",
       "</style>\n",
       "<table border=\"1\" class=\"dataframe\">\n",
       "  <thead>\n",
       "    <tr style=\"text-align: right;\">\n",
       "      <th></th>\n",
       "      <th>Id</th>\n",
       "      <th>PID</th>\n",
       "      <th>MS SubClass</th>\n",
       "      <th>MS Zoning</th>\n",
       "      <th>Lot Frontage</th>\n",
       "      <th>Lot Area</th>\n",
       "      <th>Street</th>\n",
       "      <th>Lot Shape</th>\n",
       "      <th>Land Contour</th>\n",
       "      <th>Utilities</th>\n",
       "      <th>...</th>\n",
       "      <th>Neighborhood_NoRidge</th>\n",
       "      <th>Neighborhood_NridgHt</th>\n",
       "      <th>Neighborhood_OldTown</th>\n",
       "      <th>Neighborhood_SWISU</th>\n",
       "      <th>Neighborhood_Sawyer</th>\n",
       "      <th>Neighborhood_SawyerW</th>\n",
       "      <th>Neighborhood_Somerst</th>\n",
       "      <th>Neighborhood_StoneBr</th>\n",
       "      <th>Neighborhood_Timber</th>\n",
       "      <th>Neighborhood_Veenker</th>\n",
       "    </tr>\n",
       "  </thead>\n",
       "  <tbody>\n",
       "    <tr>\n",
       "      <th>0</th>\n",
       "      <td>2658</td>\n",
       "      <td>902301120</td>\n",
       "      <td>190</td>\n",
       "      <td>RM</td>\n",
       "      <td>69.000000</td>\n",
       "      <td>9142</td>\n",
       "      <td>Pave</td>\n",
       "      <td>Reg</td>\n",
       "      <td>Lvl</td>\n",
       "      <td>AllPub</td>\n",
       "      <td>...</td>\n",
       "      <td>0</td>\n",
       "      <td>0</td>\n",
       "      <td>1</td>\n",
       "      <td>0</td>\n",
       "      <td>0</td>\n",
       "      <td>0</td>\n",
       "      <td>0</td>\n",
       "      <td>0</td>\n",
       "      <td>0</td>\n",
       "      <td>0</td>\n",
       "    </tr>\n",
       "    <tr>\n",
       "      <th>1</th>\n",
       "      <td>2718</td>\n",
       "      <td>905108090</td>\n",
       "      <td>90</td>\n",
       "      <td>RL</td>\n",
       "      <td>69.545961</td>\n",
       "      <td>9662</td>\n",
       "      <td>Pave</td>\n",
       "      <td>IR1</td>\n",
       "      <td>Lvl</td>\n",
       "      <td>AllPub</td>\n",
       "      <td>...</td>\n",
       "      <td>0</td>\n",
       "      <td>0</td>\n",
       "      <td>0</td>\n",
       "      <td>0</td>\n",
       "      <td>1</td>\n",
       "      <td>0</td>\n",
       "      <td>0</td>\n",
       "      <td>0</td>\n",
       "      <td>0</td>\n",
       "      <td>0</td>\n",
       "    </tr>\n",
       "    <tr>\n",
       "      <th>2</th>\n",
       "      <td>2414</td>\n",
       "      <td>528218130</td>\n",
       "      <td>60</td>\n",
       "      <td>RL</td>\n",
       "      <td>58.000000</td>\n",
       "      <td>17104</td>\n",
       "      <td>Pave</td>\n",
       "      <td>IR1</td>\n",
       "      <td>Lvl</td>\n",
       "      <td>AllPub</td>\n",
       "      <td>...</td>\n",
       "      <td>0</td>\n",
       "      <td>0</td>\n",
       "      <td>0</td>\n",
       "      <td>0</td>\n",
       "      <td>0</td>\n",
       "      <td>0</td>\n",
       "      <td>0</td>\n",
       "      <td>0</td>\n",
       "      <td>0</td>\n",
       "      <td>0</td>\n",
       "    </tr>\n",
       "    <tr>\n",
       "      <th>3</th>\n",
       "      <td>1989</td>\n",
       "      <td>902207150</td>\n",
       "      <td>30</td>\n",
       "      <td>RM</td>\n",
       "      <td>60.000000</td>\n",
       "      <td>8520</td>\n",
       "      <td>Pave</td>\n",
       "      <td>Reg</td>\n",
       "      <td>Lvl</td>\n",
       "      <td>AllPub</td>\n",
       "      <td>...</td>\n",
       "      <td>0</td>\n",
       "      <td>0</td>\n",
       "      <td>1</td>\n",
       "      <td>0</td>\n",
       "      <td>0</td>\n",
       "      <td>0</td>\n",
       "      <td>0</td>\n",
       "      <td>0</td>\n",
       "      <td>0</td>\n",
       "      <td>0</td>\n",
       "    </tr>\n",
       "    <tr>\n",
       "      <th>4</th>\n",
       "      <td>625</td>\n",
       "      <td>535105100</td>\n",
       "      <td>20</td>\n",
       "      <td>RL</td>\n",
       "      <td>69.545961</td>\n",
       "      <td>9500</td>\n",
       "      <td>Pave</td>\n",
       "      <td>IR1</td>\n",
       "      <td>Lvl</td>\n",
       "      <td>AllPub</td>\n",
       "      <td>...</td>\n",
       "      <td>0</td>\n",
       "      <td>0</td>\n",
       "      <td>0</td>\n",
       "      <td>0</td>\n",
       "      <td>0</td>\n",
       "      <td>0</td>\n",
       "      <td>0</td>\n",
       "      <td>0</td>\n",
       "      <td>0</td>\n",
       "      <td>0</td>\n",
       "    </tr>\n",
       "    <tr>\n",
       "      <th>...</th>\n",
       "      <td>...</td>\n",
       "      <td>...</td>\n",
       "      <td>...</td>\n",
       "      <td>...</td>\n",
       "      <td>...</td>\n",
       "      <td>...</td>\n",
       "      <td>...</td>\n",
       "      <td>...</td>\n",
       "      <td>...</td>\n",
       "      <td>...</td>\n",
       "      <td>...</td>\n",
       "      <td>...</td>\n",
       "      <td>...</td>\n",
       "      <td>...</td>\n",
       "      <td>...</td>\n",
       "      <td>...</td>\n",
       "      <td>...</td>\n",
       "      <td>...</td>\n",
       "      <td>...</td>\n",
       "      <td>...</td>\n",
       "      <td>...</td>\n",
       "    </tr>\n",
       "    <tr>\n",
       "      <th>873</th>\n",
       "      <td>1662</td>\n",
       "      <td>527377110</td>\n",
       "      <td>60</td>\n",
       "      <td>RL</td>\n",
       "      <td>80.000000</td>\n",
       "      <td>8000</td>\n",
       "      <td>Pave</td>\n",
       "      <td>Reg</td>\n",
       "      <td>Lvl</td>\n",
       "      <td>AllPub</td>\n",
       "      <td>...</td>\n",
       "      <td>0</td>\n",
       "      <td>0</td>\n",
       "      <td>0</td>\n",
       "      <td>0</td>\n",
       "      <td>0</td>\n",
       "      <td>0</td>\n",
       "      <td>0</td>\n",
       "      <td>0</td>\n",
       "      <td>0</td>\n",
       "      <td>0</td>\n",
       "    </tr>\n",
       "    <tr>\n",
       "      <th>874</th>\n",
       "      <td>1234</td>\n",
       "      <td>535126140</td>\n",
       "      <td>60</td>\n",
       "      <td>RL</td>\n",
       "      <td>90.000000</td>\n",
       "      <td>14670</td>\n",
       "      <td>Pave</td>\n",
       "      <td>Reg</td>\n",
       "      <td>Lvl</td>\n",
       "      <td>AllPub</td>\n",
       "      <td>...</td>\n",
       "      <td>0</td>\n",
       "      <td>0</td>\n",
       "      <td>0</td>\n",
       "      <td>0</td>\n",
       "      <td>0</td>\n",
       "      <td>0</td>\n",
       "      <td>0</td>\n",
       "      <td>0</td>\n",
       "      <td>0</td>\n",
       "      <td>0</td>\n",
       "    </tr>\n",
       "    <tr>\n",
       "      <th>875</th>\n",
       "      <td>1373</td>\n",
       "      <td>904100040</td>\n",
       "      <td>20</td>\n",
       "      <td>RL</td>\n",
       "      <td>55.000000</td>\n",
       "      <td>8250</td>\n",
       "      <td>Pave</td>\n",
       "      <td>Reg</td>\n",
       "      <td>Lvl</td>\n",
       "      <td>AllPub</td>\n",
       "      <td>...</td>\n",
       "      <td>0</td>\n",
       "      <td>0</td>\n",
       "      <td>0</td>\n",
       "      <td>0</td>\n",
       "      <td>1</td>\n",
       "      <td>0</td>\n",
       "      <td>0</td>\n",
       "      <td>0</td>\n",
       "      <td>0</td>\n",
       "      <td>0</td>\n",
       "    </tr>\n",
       "    <tr>\n",
       "      <th>876</th>\n",
       "      <td>1672</td>\n",
       "      <td>527425140</td>\n",
       "      <td>20</td>\n",
       "      <td>RL</td>\n",
       "      <td>60.000000</td>\n",
       "      <td>9000</td>\n",
       "      <td>Pave</td>\n",
       "      <td>Reg</td>\n",
       "      <td>Lvl</td>\n",
       "      <td>AllPub</td>\n",
       "      <td>...</td>\n",
       "      <td>0</td>\n",
       "      <td>0</td>\n",
       "      <td>0</td>\n",
       "      <td>0</td>\n",
       "      <td>0</td>\n",
       "      <td>0</td>\n",
       "      <td>0</td>\n",
       "      <td>0</td>\n",
       "      <td>0</td>\n",
       "      <td>0</td>\n",
       "    </tr>\n",
       "    <tr>\n",
       "      <th>877</th>\n",
       "      <td>1939</td>\n",
       "      <td>535327160</td>\n",
       "      <td>20</td>\n",
       "      <td>RL</td>\n",
       "      <td>70.000000</td>\n",
       "      <td>8400</td>\n",
       "      <td>Pave</td>\n",
       "      <td>Reg</td>\n",
       "      <td>Lvl</td>\n",
       "      <td>AllPub</td>\n",
       "      <td>...</td>\n",
       "      <td>0</td>\n",
       "      <td>0</td>\n",
       "      <td>0</td>\n",
       "      <td>0</td>\n",
       "      <td>0</td>\n",
       "      <td>0</td>\n",
       "      <td>0</td>\n",
       "      <td>0</td>\n",
       "      <td>0</td>\n",
       "      <td>0</td>\n",
       "    </tr>\n",
       "  </tbody>\n",
       "</table>\n",
       "<p>878 rows × 103 columns</p>\n",
       "</div>"
      ],
      "text/plain": [
       "       Id        PID MS SubClass MS Zoning  Lot Frontage  Lot Area Street  \\\n",
       "0    2658  902301120         190        RM     69.000000      9142   Pave   \n",
       "1    2718  905108090          90        RL     69.545961      9662   Pave   \n",
       "2    2414  528218130          60        RL     58.000000     17104   Pave   \n",
       "3    1989  902207150          30        RM     60.000000      8520   Pave   \n",
       "4     625  535105100          20        RL     69.545961      9500   Pave   \n",
       "..    ...        ...         ...       ...           ...       ...    ...   \n",
       "873  1662  527377110          60        RL     80.000000      8000   Pave   \n",
       "874  1234  535126140          60        RL     90.000000     14670   Pave   \n",
       "875  1373  904100040          20        RL     55.000000      8250   Pave   \n",
       "876  1672  527425140          20        RL     60.000000      9000   Pave   \n",
       "877  1939  535327160          20        RL     70.000000      8400   Pave   \n",
       "\n",
       "    Lot Shape Land Contour Utilities  ... Neighborhood_NoRidge  \\\n",
       "0         Reg          Lvl    AllPub  ...                    0   \n",
       "1         IR1          Lvl    AllPub  ...                    0   \n",
       "2         IR1          Lvl    AllPub  ...                    0   \n",
       "3         Reg          Lvl    AllPub  ...                    0   \n",
       "4         IR1          Lvl    AllPub  ...                    0   \n",
       "..        ...          ...       ...  ...                  ...   \n",
       "873       Reg          Lvl    AllPub  ...                    0   \n",
       "874       Reg          Lvl    AllPub  ...                    0   \n",
       "875       Reg          Lvl    AllPub  ...                    0   \n",
       "876       Reg          Lvl    AllPub  ...                    0   \n",
       "877       Reg          Lvl    AllPub  ...                    0   \n",
       "\n",
       "    Neighborhood_NridgHt Neighborhood_OldTown Neighborhood_SWISU  \\\n",
       "0                      0                    1                  0   \n",
       "1                      0                    0                  0   \n",
       "2                      0                    0                  0   \n",
       "3                      0                    1                  0   \n",
       "4                      0                    0                  0   \n",
       "..                   ...                  ...                ...   \n",
       "873                    0                    0                  0   \n",
       "874                    0                    0                  0   \n",
       "875                    0                    0                  0   \n",
       "876                    0                    0                  0   \n",
       "877                    0                    0                  0   \n",
       "\n",
       "    Neighborhood_Sawyer Neighborhood_SawyerW  Neighborhood_Somerst  \\\n",
       "0                     0                    0                     0   \n",
       "1                     1                    0                     0   \n",
       "2                     0                    0                     0   \n",
       "3                     0                    0                     0   \n",
       "4                     0                    0                     0   \n",
       "..                  ...                  ...                   ...   \n",
       "873                   0                    0                     0   \n",
       "874                   0                    0                     0   \n",
       "875                   1                    0                     0   \n",
       "876                   0                    0                     0   \n",
       "877                   0                    0                     0   \n",
       "\n",
       "     Neighborhood_StoneBr  Neighborhood_Timber  Neighborhood_Veenker  \n",
       "0                       0                    0                     0  \n",
       "1                       0                    0                     0  \n",
       "2                       0                    0                     0  \n",
       "3                       0                    0                     0  \n",
       "4                       0                    0                     0  \n",
       "..                    ...                  ...                   ...  \n",
       "873                     0                    0                     0  \n",
       "874                     0                    0                     0  \n",
       "875                     0                    0                     0  \n",
       "876                     0                    0                     0  \n",
       "877                     0                    0                     0  \n",
       "\n",
       "[878 rows x 103 columns]"
      ]
     },
     "execution_count": 54,
     "metadata": {},
     "output_type": "execute_result"
    }
   ],
   "source": [
    "# Ran get dummies on Neighborhood and used one hot encoding\n",
    "test = pd.get_dummies(test,columns = ['Neighborhood'])\n",
    "test"
   ]
  },
  {
   "cell_type": "code",
   "execution_count": 55,
   "metadata": {},
   "outputs": [],
   "source": [
    "# Added the 2 dummy columns that the test data did not have to make columns equal between the datasets\n",
    "test['Neighborhood_GrnHill'] = \"0\"\n",
    "test['Neighborhood_Landmrk'] = \"0\""
   ]
  },
  {
   "cell_type": "code",
   "execution_count": 56,
   "metadata": {},
   "outputs": [],
   "source": [
    "# Did not use -  dummy for all columns\n",
    "# test = pd.get_dummies(test,columns=['Neighborhood'],drop_first=True)\n",
    "# test.head()"
   ]
  },
  {
   "cell_type": "code",
   "execution_count": 57,
   "metadata": {},
   "outputs": [
    {
     "data": {
      "text/plain": [
       "(878, 105)"
      ]
     },
     "execution_count": 57,
     "metadata": {},
     "output_type": "execute_result"
    }
   ],
   "source": [
    "# Cannot get log of salesprice to work\n",
    "\n",
    "# test['LogSalePrice'] = np.log(test['SalePrice'])\n",
    "test.shape\n"
   ]
  },
  {
   "cell_type": "code",
   "execution_count": 58,
   "metadata": {},
   "outputs": [],
   "source": [
    "# features = [col for col in test._get_numeric_data().columns if col != 'SalePrice']\n",
    "\n",
    "# Used same features as for training\n",
    "test_features = features"
   ]
  },
  {
   "cell_type": "code",
   "execution_count": 59,
   "metadata": {},
   "outputs": [],
   "source": [
    "# Created salesprice column for test set\n",
    "test['SalePrice'] = \"\""
   ]
  },
  {
   "cell_type": "code",
   "execution_count": 60,
   "metadata": {},
   "outputs": [],
   "source": [
    "# Instiantiated the X for testing\n",
    "test_X = test[test_features]"
   ]
  },
  {
   "cell_type": "code",
   "execution_count": 61,
   "metadata": {},
   "outputs": [],
   "source": [
    "# Ran my model on the Test_X\n",
    "predicted_prices = linreg.predict(scaler.transform(test_X))"
   ]
  },
  {
   "cell_type": "code",
   "execution_count": 62,
   "metadata": {
    "scrolled": true
   },
   "outputs": [],
   "source": [
    "# Printed the prices so I could see if the change\n",
    "# print(predicted_prices)\n"
   ]
  },
  {
   "cell_type": "code",
   "execution_count": 63,
   "metadata": {},
   "outputs": [],
   "source": [
    "# created dataframe by dictionary to hold ID and Salesprice\n",
    "clint_submission2 = pd.DataFrame({'Id': test.Id, 'SalePrice': predicted_prices})"
   ]
  },
  {
   "cell_type": "code",
   "execution_count": 64,
   "metadata": {},
   "outputs": [
    {
     "data": {
      "text/html": [
       "<div>\n",
       "<style scoped>\n",
       "    .dataframe tbody tr th:only-of-type {\n",
       "        vertical-align: middle;\n",
       "    }\n",
       "\n",
       "    .dataframe tbody tr th {\n",
       "        vertical-align: top;\n",
       "    }\n",
       "\n",
       "    .dataframe thead th {\n",
       "        text-align: right;\n",
       "    }\n",
       "</style>\n",
       "<table border=\"1\" class=\"dataframe\">\n",
       "  <thead>\n",
       "    <tr style=\"text-align: right;\">\n",
       "      <th></th>\n",
       "      <th>Id</th>\n",
       "      <th>SalePrice</th>\n",
       "    </tr>\n",
       "  </thead>\n",
       "  <tbody>\n",
       "    <tr>\n",
       "      <th>0</th>\n",
       "      <td>2658</td>\n",
       "      <td>142634.336860</td>\n",
       "    </tr>\n",
       "    <tr>\n",
       "      <th>1</th>\n",
       "      <td>2718</td>\n",
       "      <td>207431.292025</td>\n",
       "    </tr>\n",
       "    <tr>\n",
       "      <th>2</th>\n",
       "      <td>2414</td>\n",
       "      <td>187041.080048</td>\n",
       "    </tr>\n",
       "    <tr>\n",
       "      <th>3</th>\n",
       "      <td>1989</td>\n",
       "      <td>118058.887866</td>\n",
       "    </tr>\n",
       "    <tr>\n",
       "      <th>4</th>\n",
       "      <td>625</td>\n",
       "      <td>183514.938929</td>\n",
       "    </tr>\n",
       "  </tbody>\n",
       "</table>\n",
       "</div>"
      ],
      "text/plain": [
       "     Id      SalePrice\n",
       "0  2658  142634.336860\n",
       "1  2718  207431.292025\n",
       "2  2414  187041.080048\n",
       "3  1989  118058.887866\n",
       "4   625  183514.938929"
      ]
     },
     "execution_count": 64,
     "metadata": {},
     "output_type": "execute_result"
    }
   ],
   "source": [
    "# vied dataframe\n",
    "clint_submission2.head()"
   ]
  },
  {
   "cell_type": "code",
   "execution_count": 65,
   "metadata": {},
   "outputs": [],
   "source": [
    "# Wrote dataframe to CSV\n",
    "clint_submission2.to_csv('./datasets/clint_submission2.csv', index = False)"
   ]
  },
  {
   "cell_type": "code",
   "execution_count": null,
   "metadata": {},
   "outputs": [],
   "source": []
  },
  {
   "cell_type": "code",
   "execution_count": 66,
   "metadata": {},
   "outputs": [
    {
     "data": {
      "text/html": [
       "<table class=\"simpletable\">\n",
       "<caption>OLS Regression Results</caption>\n",
       "<tr>\n",
       "  <th>Dep. Variable:</th>        <td>SalePrice</td>    <th>  R-squared (uncentered):</th>      <td>   0.983</td> \n",
       "</tr>\n",
       "<tr>\n",
       "  <th>Model:</th>                   <td>OLS</td>       <th>  Adj. R-squared (uncentered):</th> <td>   0.982</td> \n",
       "</tr>\n",
       "<tr>\n",
       "  <th>Method:</th>             <td>Least Squares</td>  <th>  F-statistic:       </th>          <td>   2117.</td> \n",
       "</tr>\n",
       "<tr>\n",
       "  <th>Date:</th>             <td>Thu, 14 May 2020</td> <th>  Prob (F-statistic):</th>           <td>  0.00</td>  \n",
       "</tr>\n",
       "<tr>\n",
       "  <th>Time:</th>                 <td>19:28:51</td>     <th>  Log-Likelihood:    </th>          <td> -17655.</td> \n",
       "</tr>\n",
       "<tr>\n",
       "  <th>No. Observations:</th>      <td>  1527</td>      <th>  AIC:               </th>          <td>3.539e+04</td>\n",
       "</tr>\n",
       "<tr>\n",
       "  <th>Df Residuals:</th>          <td>  1487</td>      <th>  BIC:               </th>          <td>3.560e+04</td>\n",
       "</tr>\n",
       "<tr>\n",
       "  <th>Df Model:</th>              <td>    40</td>      <th>                     </th>              <td> </td>    \n",
       "</tr>\n",
       "<tr>\n",
       "  <th>Covariance Type:</th>      <td>nonrobust</td>    <th>                     </th>              <td> </td>    \n",
       "</tr>\n",
       "</table>\n",
       "<table class=\"simpletable\">\n",
       "<tr>\n",
       "            <td></td>              <th>coef</th>     <th>std err</th>      <th>t</th>      <th>P>|t|</th>  <th>[0.025</th>    <th>0.975]</th>  \n",
       "</tr>\n",
       "<tr>\n",
       "  <th>Gr Liv Area</th>          <td>   30.9656</td> <td>    5.562</td> <td>    5.568</td> <td> 0.000</td> <td>   20.056</td> <td>   41.875</td>\n",
       "</tr>\n",
       "<tr>\n",
       "  <th>Year Built</th>           <td>  322.7190</td> <td>   57.762</td> <td>    5.587</td> <td> 0.000</td> <td>  209.415</td> <td>  436.023</td>\n",
       "</tr>\n",
       "<tr>\n",
       "  <th>Total SF</th>             <td>   69.1766</td> <td>    6.616</td> <td>   10.456</td> <td> 0.000</td> <td>   56.199</td> <td>   82.155</td>\n",
       "</tr>\n",
       "<tr>\n",
       "  <th>TotRms AbvGrd</th>        <td>-1.298e+04</td> <td> 3271.103</td> <td>   -3.969</td> <td> 0.000</td> <td>-1.94e+04</td> <td>-6567.109</td>\n",
       "</tr>\n",
       "<tr>\n",
       "  <th>Fireplaces</th>           <td> 9143.6786</td> <td> 1315.534</td> <td>    6.951</td> <td> 0.000</td> <td> 6563.179</td> <td> 1.17e+04</td>\n",
       "</tr>\n",
       "<tr>\n",
       "  <th>Overall Qual</th>         <td> 1.463e+04</td> <td>  857.078</td> <td>   17.072</td> <td> 0.000</td> <td>  1.3e+04</td> <td> 1.63e+04</td>\n",
       "</tr>\n",
       "<tr>\n",
       "  <th>Gr Liv Area</th>          <td>   30.9656</td> <td>    5.562</td> <td>    5.568</td> <td> 0.000</td> <td>   20.056</td> <td>   41.875</td>\n",
       "</tr>\n",
       "<tr>\n",
       "  <th>Garage Area</th>          <td>   36.6770</td> <td>    4.275</td> <td>    8.580</td> <td> 0.000</td> <td>   28.292</td> <td>   45.062</td>\n",
       "</tr>\n",
       "<tr>\n",
       "  <th>Year Remod/Add</th>       <td>  326.3959</td> <td>   46.106</td> <td>    7.079</td> <td> 0.000</td> <td>  235.956</td> <td>  416.836</td>\n",
       "</tr>\n",
       "<tr>\n",
       "  <th>Year Built_log</th>       <td>-4.254e+04</td> <td> 2.28e+04</td> <td>   -1.866</td> <td> 0.062</td> <td>-8.73e+04</td> <td> 2178.284</td>\n",
       "</tr>\n",
       "<tr>\n",
       "  <th>TotRms AbvGrd_log</th>    <td> 7.473e+04</td> <td>  2.1e+04</td> <td>    3.550</td> <td> 0.000</td> <td> 3.34e+04</td> <td> 1.16e+05</td>\n",
       "</tr>\n",
       "<tr>\n",
       "  <th>1st Flr SF_log</th>       <td> 2277.7144</td> <td> 3916.707</td> <td>    0.582</td> <td> 0.561</td> <td>-5405.144</td> <td> 9960.572</td>\n",
       "</tr>\n",
       "<tr>\n",
       "  <th>Gr Liv Area_log</th>      <td>-6.831e+04</td> <td> 1.63e+04</td> <td>   -4.192</td> <td> 0.000</td> <td>   -1e+05</td> <td>-3.63e+04</td>\n",
       "</tr>\n",
       "<tr>\n",
       "  <th>Total SF_log</th>         <td>-9.608e+04</td> <td> 1.44e+04</td> <td>   -6.694</td> <td> 0.000</td> <td>-1.24e+05</td> <td>-6.79e+04</td>\n",
       "</tr>\n",
       "<tr>\n",
       "  <th>Neighborhood_Blueste</th> <td>-1.352e+04</td> <td> 1.33e+04</td> <td>   -1.016</td> <td> 0.310</td> <td>-3.96e+04</td> <td> 1.26e+04</td>\n",
       "</tr>\n",
       "<tr>\n",
       "  <th>Neighborhood_BrDale</th>  <td>-1.308e+04</td> <td> 9617.688</td> <td>   -1.360</td> <td> 0.174</td> <td>-3.19e+04</td> <td> 5782.788</td>\n",
       "</tr>\n",
       "<tr>\n",
       "  <th>Neighborhood_BrkSide</th> <td> 1.501e+04</td> <td> 8066.902</td> <td>    1.860</td> <td> 0.063</td> <td> -816.079</td> <td> 3.08e+04</td>\n",
       "</tr>\n",
       "<tr>\n",
       "  <th>Neighborhood_ClearCr</th> <td> 3.133e+04</td> <td> 8977.813</td> <td>    3.489</td> <td> 0.000</td> <td> 1.37e+04</td> <td> 4.89e+04</td>\n",
       "</tr>\n",
       "<tr>\n",
       "  <th>Neighborhood_CollgCr</th> <td> 9904.1789</td> <td> 6747.172</td> <td>    1.468</td> <td> 0.142</td> <td>-3330.809</td> <td> 2.31e+04</td>\n",
       "</tr>\n",
       "<tr>\n",
       "  <th>Neighborhood_Crawfor</th> <td> 3.286e+04</td> <td> 7706.544</td> <td>    4.265</td> <td> 0.000</td> <td> 1.77e+04</td> <td>  4.8e+04</td>\n",
       "</tr>\n",
       "<tr>\n",
       "  <th>Neighborhood_Edwards</th> <td> 1.202e+04</td> <td> 7271.090</td> <td>    1.653</td> <td> 0.099</td> <td>-2246.989</td> <td> 2.63e+04</td>\n",
       "</tr>\n",
       "<tr>\n",
       "  <th>Neighborhood_Gilbert</th> <td> 7193.2081</td> <td> 6970.698</td> <td>    1.032</td> <td> 0.302</td> <td>-6480.238</td> <td> 2.09e+04</td>\n",
       "</tr>\n",
       "<tr>\n",
       "  <th>Neighborhood_Greens</th>  <td>-1.279e+04</td> <td> 2.67e+04</td> <td>   -0.479</td> <td> 0.632</td> <td>-6.51e+04</td> <td> 3.96e+04</td>\n",
       "</tr>\n",
       "<tr>\n",
       "  <th>Neighborhood_GrnHill</th> <td> 1.086e+05</td> <td> 1.94e+04</td> <td>    5.593</td> <td> 0.000</td> <td> 7.05e+04</td> <td> 1.47e+05</td>\n",
       "</tr>\n",
       "<tr>\n",
       "  <th>Neighborhood_Landmrk</th> <td>-7352.9643</td> <td> 2.67e+04</td> <td>   -0.276</td> <td> 0.783</td> <td>-5.96e+04</td> <td> 4.49e+04</td>\n",
       "</tr>\n",
       "<tr>\n",
       "  <th>Neighborhood_IDOTRR</th>  <td> 8879.1334</td> <td> 8397.909</td> <td>    1.057</td> <td> 0.291</td> <td>-7593.875</td> <td> 2.54e+04</td>\n",
       "</tr>\n",
       "<tr>\n",
       "  <th>Neighborhood_MeadowV</th> <td>-4016.6743</td> <td> 9127.491</td> <td>   -0.440</td> <td> 0.660</td> <td>-2.19e+04</td> <td> 1.39e+04</td>\n",
       "</tr>\n",
       "<tr>\n",
       "  <th>Neighborhood_Mitchel</th> <td>  1.09e+04</td> <td> 7318.477</td> <td>    1.490</td> <td> 0.136</td> <td>-3452.154</td> <td> 2.53e+04</td>\n",
       "</tr>\n",
       "<tr>\n",
       "  <th>Neighborhood_NAmes</th>   <td> 1.204e+04</td> <td> 6938.938</td> <td>    1.736</td> <td> 0.083</td> <td>-1568.168</td> <td> 2.57e+04</td>\n",
       "</tr>\n",
       "<tr>\n",
       "  <th>Neighborhood_NPkVill</th> <td>-9699.0574</td> <td> 1.02e+04</td> <td>   -0.953</td> <td> 0.341</td> <td>-2.97e+04</td> <td> 1.03e+04</td>\n",
       "</tr>\n",
       "<tr>\n",
       "  <th>Neighborhood_NWAmes</th>  <td> 4453.7393</td> <td> 7293.433</td> <td>    0.611</td> <td> 0.542</td> <td>-9852.771</td> <td> 1.88e+04</td>\n",
       "</tr>\n",
       "<tr>\n",
       "  <th>Neighborhood_NoRidge</th> <td> 2.887e+04</td> <td> 8061.766</td> <td>    3.582</td> <td> 0.000</td> <td> 1.31e+04</td> <td> 4.47e+04</td>\n",
       "</tr>\n",
       "<tr>\n",
       "  <th>Neighborhood_NridgHt</th> <td> 4.346e+04</td> <td> 6943.506</td> <td>    6.259</td> <td> 0.000</td> <td> 2.98e+04</td> <td> 5.71e+04</td>\n",
       "</tr>\n",
       "<tr>\n",
       "  <th>Neighborhood_OldTown</th> <td> 5386.7340</td> <td> 7830.958</td> <td>    0.688</td> <td> 0.492</td> <td>-9974.165</td> <td> 2.07e+04</td>\n",
       "</tr>\n",
       "<tr>\n",
       "  <th>Neighborhood_SWISU</th>   <td> 1.013e+04</td> <td> 8941.670</td> <td>    1.133</td> <td> 0.257</td> <td>-7405.622</td> <td> 2.77e+04</td>\n",
       "</tr>\n",
       "<tr>\n",
       "  <th>Neighborhood_Sawyer</th>  <td> 1.245e+04</td> <td> 7243.948</td> <td>    1.719</td> <td> 0.086</td> <td>-1757.113</td> <td> 2.67e+04</td>\n",
       "</tr>\n",
       "<tr>\n",
       "  <th>Neighborhood_SawyerW</th> <td> 3935.0420</td> <td> 7142.055</td> <td>    0.551</td> <td> 0.582</td> <td>-1.01e+04</td> <td> 1.79e+04</td>\n",
       "</tr>\n",
       "<tr>\n",
       "  <th>Neighborhood_Somerst</th> <td> 1.228e+04</td> <td> 6893.214</td> <td>    1.781</td> <td> 0.075</td> <td>-1241.318</td> <td> 2.58e+04</td>\n",
       "</tr>\n",
       "<tr>\n",
       "  <th>Neighborhood_StoneBr</th> <td> 6.315e+04</td> <td> 8619.788</td> <td>    7.326</td> <td> 0.000</td> <td> 4.62e+04</td> <td> 8.01e+04</td>\n",
       "</tr>\n",
       "<tr>\n",
       "  <th>Neighborhood_Timber</th>  <td> 2.469e+04</td> <td> 7711.603</td> <td>    3.202</td> <td> 0.001</td> <td> 9562.184</td> <td> 3.98e+04</td>\n",
       "</tr>\n",
       "<tr>\n",
       "  <th>Neighborhood_Veenker</th> <td> 2.317e+04</td> <td> 1.05e+04</td> <td>    2.205</td> <td> 0.028</td> <td> 2561.988</td> <td> 4.38e+04</td>\n",
       "</tr>\n",
       "</table>\n",
       "<table class=\"simpletable\">\n",
       "<tr>\n",
       "  <th>Omnibus:</th>       <td>163.645</td> <th>  Durbin-Watson:     </th> <td>   2.053</td> \n",
       "</tr>\n",
       "<tr>\n",
       "  <th>Prob(Omnibus):</th> <td> 0.000</td>  <th>  Jarque-Bera (JB):  </th> <td>1337.576</td> \n",
       "</tr>\n",
       "<tr>\n",
       "  <th>Skew:</th>          <td>-0.017</td>  <th>  Prob(JB):          </th> <td>3.54e-291</td>\n",
       "</tr>\n",
       "<tr>\n",
       "  <th>Kurtosis:</th>      <td> 7.585</td>  <th>  Cond. No.          </th> <td>2.81e+16</td> \n",
       "</tr>\n",
       "</table><br/><br/>Warnings:<br/>[1] Standard Errors assume that the covariance matrix of the errors is correctly specified.<br/>[2] The smallest eigenvalue is 3.75e-23. This might indicate that there are<br/>strong multicollinearity problems or that the design matrix is singular."
      ],
      "text/plain": [
       "<class 'statsmodels.iolib.summary.Summary'>\n",
       "\"\"\"\n",
       "                                 OLS Regression Results                                \n",
       "=======================================================================================\n",
       "Dep. Variable:              SalePrice   R-squared (uncentered):                   0.983\n",
       "Model:                            OLS   Adj. R-squared (uncentered):              0.982\n",
       "Method:                 Least Squares   F-statistic:                              2117.\n",
       "Date:                Thu, 14 May 2020   Prob (F-statistic):                        0.00\n",
       "Time:                        19:28:51   Log-Likelihood:                         -17655.\n",
       "No. Observations:                1527   AIC:                                  3.539e+04\n",
       "Df Residuals:                    1487   BIC:                                  3.560e+04\n",
       "Df Model:                          40                                                  \n",
       "Covariance Type:            nonrobust                                                  \n",
       "========================================================================================\n",
       "                           coef    std err          t      P>|t|      [0.025      0.975]\n",
       "----------------------------------------------------------------------------------------\n",
       "Gr Liv Area             30.9656      5.562      5.568      0.000      20.056      41.875\n",
       "Year Built             322.7190     57.762      5.587      0.000     209.415     436.023\n",
       "Total SF                69.1766      6.616     10.456      0.000      56.199      82.155\n",
       "TotRms AbvGrd        -1.298e+04   3271.103     -3.969      0.000   -1.94e+04   -6567.109\n",
       "Fireplaces            9143.6786   1315.534      6.951      0.000    6563.179    1.17e+04\n",
       "Overall Qual          1.463e+04    857.078     17.072      0.000     1.3e+04    1.63e+04\n",
       "Gr Liv Area             30.9656      5.562      5.568      0.000      20.056      41.875\n",
       "Garage Area             36.6770      4.275      8.580      0.000      28.292      45.062\n",
       "Year Remod/Add         326.3959     46.106      7.079      0.000     235.956     416.836\n",
       "Year Built_log       -4.254e+04   2.28e+04     -1.866      0.062   -8.73e+04    2178.284\n",
       "TotRms AbvGrd_log     7.473e+04    2.1e+04      3.550      0.000    3.34e+04    1.16e+05\n",
       "1st Flr SF_log        2277.7144   3916.707      0.582      0.561   -5405.144    9960.572\n",
       "Gr Liv Area_log      -6.831e+04   1.63e+04     -4.192      0.000      -1e+05   -3.63e+04\n",
       "Total SF_log         -9.608e+04   1.44e+04     -6.694      0.000   -1.24e+05   -6.79e+04\n",
       "Neighborhood_Blueste -1.352e+04   1.33e+04     -1.016      0.310   -3.96e+04    1.26e+04\n",
       "Neighborhood_BrDale  -1.308e+04   9617.688     -1.360      0.174   -3.19e+04    5782.788\n",
       "Neighborhood_BrkSide  1.501e+04   8066.902      1.860      0.063    -816.079    3.08e+04\n",
       "Neighborhood_ClearCr  3.133e+04   8977.813      3.489      0.000    1.37e+04    4.89e+04\n",
       "Neighborhood_CollgCr  9904.1789   6747.172      1.468      0.142   -3330.809    2.31e+04\n",
       "Neighborhood_Crawfor  3.286e+04   7706.544      4.265      0.000    1.77e+04     4.8e+04\n",
       "Neighborhood_Edwards  1.202e+04   7271.090      1.653      0.099   -2246.989    2.63e+04\n",
       "Neighborhood_Gilbert  7193.2081   6970.698      1.032      0.302   -6480.238    2.09e+04\n",
       "Neighborhood_Greens  -1.279e+04   2.67e+04     -0.479      0.632   -6.51e+04    3.96e+04\n",
       "Neighborhood_GrnHill  1.086e+05   1.94e+04      5.593      0.000    7.05e+04    1.47e+05\n",
       "Neighborhood_Landmrk -7352.9643   2.67e+04     -0.276      0.783   -5.96e+04    4.49e+04\n",
       "Neighborhood_IDOTRR   8879.1334   8397.909      1.057      0.291   -7593.875    2.54e+04\n",
       "Neighborhood_MeadowV -4016.6743   9127.491     -0.440      0.660   -2.19e+04    1.39e+04\n",
       "Neighborhood_Mitchel   1.09e+04   7318.477      1.490      0.136   -3452.154    2.53e+04\n",
       "Neighborhood_NAmes    1.204e+04   6938.938      1.736      0.083   -1568.168    2.57e+04\n",
       "Neighborhood_NPkVill -9699.0574   1.02e+04     -0.953      0.341   -2.97e+04    1.03e+04\n",
       "Neighborhood_NWAmes   4453.7393   7293.433      0.611      0.542   -9852.771    1.88e+04\n",
       "Neighborhood_NoRidge  2.887e+04   8061.766      3.582      0.000    1.31e+04    4.47e+04\n",
       "Neighborhood_NridgHt  4.346e+04   6943.506      6.259      0.000    2.98e+04    5.71e+04\n",
       "Neighborhood_OldTown  5386.7340   7830.958      0.688      0.492   -9974.165    2.07e+04\n",
       "Neighborhood_SWISU    1.013e+04   8941.670      1.133      0.257   -7405.622    2.77e+04\n",
       "Neighborhood_Sawyer   1.245e+04   7243.948      1.719      0.086   -1757.113    2.67e+04\n",
       "Neighborhood_SawyerW  3935.0420   7142.055      0.551      0.582   -1.01e+04    1.79e+04\n",
       "Neighborhood_Somerst  1.228e+04   6893.214      1.781      0.075   -1241.318    2.58e+04\n",
       "Neighborhood_StoneBr  6.315e+04   8619.788      7.326      0.000    4.62e+04    8.01e+04\n",
       "Neighborhood_Timber   2.469e+04   7711.603      3.202      0.001    9562.184    3.98e+04\n",
       "Neighborhood_Veenker  2.317e+04   1.05e+04      2.205      0.028    2561.988    4.38e+04\n",
       "==============================================================================\n",
       "Omnibus:                      163.645   Durbin-Watson:                   2.053\n",
       "Prob(Omnibus):                  0.000   Jarque-Bera (JB):             1337.576\n",
       "Skew:                          -0.017   Prob(JB):                    3.54e-291\n",
       "Kurtosis:                       7.585   Cond. No.                     2.81e+16\n",
       "==============================================================================\n",
       "\n",
       "Warnings:\n",
       "[1] Standard Errors assume that the covariance matrix of the errors is correctly specified.\n",
       "[2] The smallest eigenvalue is 3.75e-23. This might indicate that there are\n",
       "strong multicollinearity problems or that the design matrix is singular.\n",
       "\"\"\""
      ]
     },
     "execution_count": 66,
     "metadata": {},
     "output_type": "execute_result"
    }
   ],
   "source": [
    "# # Uses this to help to zone in my model\n",
    "linreg = sm.OLS(y_train, X_train).fit()\n",
    "linreg.summary()"
   ]
  },
  {
   "cell_type": "code",
   "execution_count": null,
   "metadata": {},
   "outputs": [],
   "source": []
  }
 ],
 "metadata": {
  "kernelspec": {
   "display_name": "Python 3",
   "language": "python",
   "name": "python3"
  },
  "language_info": {
   "codemirror_mode": {
    "name": "ipython",
    "version": 3
   },
   "file_extension": ".py",
   "mimetype": "text/x-python",
   "name": "python",
   "nbconvert_exporter": "python",
   "pygments_lexer": "ipython3",
   "version": "3.7.6"
  }
 },
 "nbformat": 4,
 "nbformat_minor": 4
}
